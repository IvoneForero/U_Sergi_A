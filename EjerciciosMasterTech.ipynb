{
  "nbformat": 4,
  "nbformat_minor": 0,
  "metadata": {
    "colab": {
      "name": "EjerciciosMasterTech.ipynb",
      "provenance": [],
      "collapsed_sections": [],
      "authorship_tag": "ABX9TyP/3vsFDDDJjRdrmtEjIB6Y",
      "include_colab_link": true
    },
    "kernelspec": {
      "name": "python3",
      "display_name": "Python 3"
    },
    "language_info": {
      "name": "python"
    }
  },
  "cells": [
    {
      "cell_type": "markdown",
      "metadata": {
        "id": "view-in-github",
        "colab_type": "text"
      },
      "source": [
        "<a href=\"https://colab.research.google.com/github/IvoneForero/U_Sergi_A/blob/main/EjerciciosMasterTech.ipynb\" target=\"_parent\"><img src=\"https://colab.research.google.com/assets/colab-badge.svg\" alt=\"Open In Colab\"/></a>"
      ]
    },
    {
      "cell_type": "markdown",
      "source": [
        "# **Ejercio Numero 1**"
      ],
      "metadata": {
        "id": "wgOrEfS-J_7T"
      }
    },
    {
      "cell_type": "markdown",
      "source": [
        "**Operaciones matemáticas con números en Python**\n",
        "\n",
        "**Enunciado**\n",
        "\n",
        "Realice un programa que cumpla con el siguiente algoritmo, utilizando siempre que sea posible, operadores en ajustar:\n",
        "\n",
        "Guarda en una variable numero_magico el valor 12345679 (sin el 8)\n",
        "\n",
        "Asignar a otra variable numero_usuario. Hay que especificar que sea entre 1 y 9 (asegúrate que es un número)\n",
        "\n",
        "Multiplica el numero_usuario por 9 en sí mismo\n",
        "\n",
        "Multiplica el numero_magico por el numero_usuario en sí mismo\n",
        "\n",
        "Finalmente muestra el valor final del numero_magico por pantalla\n",
        "\n",
        "**Dificultad:**\n",
        "\n",
        "Medio\n",
        "\n",
        "**Instrucciones**\n",
        "\n",
        "Para la solución de este problema, se requiere que el usuario ingrese un número entero y el sistema realice el cálculo respectivo para hallar la multiplicación. Para esto se debe usar la siguiente expresión.\n",
        "(multiplicación = numero_usuario X numero_magico)\n",
        "Por último, realizar la impresión por pantalla de la multiplicación"
      ],
      "metadata": {
        "id": "9be97Vo6I4AU"
      }
    },
    {
      "cell_type": "code",
      "source": [
        "numero_magico = 12345679 \n",
        "numero_usuario = int ( input ( \"ingresar un numero entre el 1 y 9 \\n \" ))\n",
        "if (numero_usuario < 1  or  numero_usuario > 9):\n",
        "  print ( \"debes ingresar un numero entero entre 1 y 9\" )\n",
        "else :\n",
        "\n",
        "  print ( numero_magico )\n",
        "  \n",
        "#numero_magico = 12345679\n",
        "#numero_usuario = int(input('Ingrese un numero de 1 a 9: '))\n",
        "#numero_usuario = numero_usuario * 9\n",
        "#multiplicacion = numero_usuario * numero_magico\n",
        "#print(multiplicacion)"
      ],
      "metadata": {
        "colab": {
          "base_uri": "https://localhost:8080/"
        },
        "id": "RmRQlIMlJv9E",
        "outputId": "c2e0f3da-21dc-4087-b4cc-73912aead1b1"
      },
      "execution_count": null,
      "outputs": [
        {
          "output_type": "stream",
          "name": "stdout",
          "text": [
            "ingresar un numero entre el 1 y 9 \n",
            " 8\n",
            "12345679\n"
          ]
        }
      ]
    },
    {
      "cell_type": "markdown",
      "source": [
        "# **Ejercio Numero 2**"
      ],
      "metadata": {
        "id": "aGOxmUArKGKS"
      }
    },
    {
      "cell_type": "markdown",
      "source": [
        "**Manejo de tipos de datos en Python**\n",
        "\n",
        "**enunciado**\n",
        "\n",
        "Manejo de tipos de datos en Python,Identifica el tipo de dato (int, float, string o list) de los siguientes valores literales:\n",
        "\n",
        "Hola Mundo\n",
        "\n",
        "[1, 10, 100]\n",
        "\n",
        "-25\n",
        "\n",
        "1.167\n",
        "\n",
        "[Hola,Mundo]\n",
        "\n",
        "True\n",
        "\n",
        "A={Uno :uno, Dos:dos}\n",
        "\n",
        "\n",
        "Para la solución de este problema, se requiere que el usuario ingrese los datos y realice la validación del tipo de dato. Se requiere que se escriba el dato ingresado, se imprima por consola y luego se imprima qué tipo de dato es.\n",
        "dificultad\n",
        "Baja\n",
        "\n",
        "\n",
        "**Instrucciones**\n",
        "\n",
        "Para la solución de este problema, se requiere que el usuario ingrese los datos y realice la validación del tipo de dato. Se requiere que se escriba el dato ingresado, se imprima por consola y luego se imprima qué tipo de dato es."
      ],
      "metadata": {
        "id": "cMl5rKE_KJiz"
      }
    },
    {
      "cell_type": "code",
      "source": [
        "tex='Hola Mundo'\n",
        "lis= [1, 10, 100]\n",
        "num= -25\n",
        "num2= 1.167\n",
        "lis2= [\"Hola\",\"Mundo\"]\n",
        "abc = True\n",
        "A= {\"Uno\" :\"uno\",\"Dos\":\"dos\"}\n",
        "\n",
        "print(tex,\"\\n\",type(tex))\n",
        "print(lis,\"\\n\",type(lis))\n",
        "print(num,\"\\n\",type(num))\n",
        "print(num2,\"\\n\",type(num2))\n",
        "print(lis2,\"\\n\",type(lis2))\n",
        "print(abc,\"\\n\",type(abc))\n",
        "print(A,\"\\n\",type(A))"
      ],
      "metadata": {
        "colab": {
          "base_uri": "https://localhost:8080/"
        },
        "id": "_OJVXcYTKU6y",
        "outputId": "28a94fee-cb3b-4375-f451-08aca480c4ad"
      },
      "execution_count": null,
      "outputs": [
        {
          "output_type": "stream",
          "name": "stdout",
          "text": [
            "Hola Mundo \n",
            " <class 'str'>\n",
            "[1, 10, 100] \n",
            " <class 'list'>\n",
            "-25 \n",
            " <class 'int'>\n",
            "1.167 \n",
            " <class 'float'>\n",
            "['Hola', 'Mundo'] \n",
            " <class 'list'>\n",
            "True \n",
            " <class 'bool'>\n",
            "{'Uno': 'uno', 'Dos': 'dos'} \n",
            " <class 'dict'>\n"
          ]
        }
      ]
    }
  ]
}